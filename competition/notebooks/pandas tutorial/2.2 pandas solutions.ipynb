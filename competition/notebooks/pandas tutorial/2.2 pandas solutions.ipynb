{
 "cells": [
  {
   "cell_type": "code",
   "execution_count": 3,
   "metadata": {},
   "outputs": [],
   "source": [
    "import pandas as pd"
   ]
  },
  {
   "cell_type": "code",
   "execution_count": 4,
   "metadata": {},
   "outputs": [
    {
     "name": "stdout",
     "output_type": "stream",
     "text": [
      "(15153, 7)\n"
     ]
    },
    {
     "data": {
      "text/html": [
       "<div>\n",
       "<style scoped>\n",
       "    .dataframe tbody tr th:only-of-type {\n",
       "        vertical-align: middle;\n",
       "    }\n",
       "\n",
       "    .dataframe tbody tr th {\n",
       "        vertical-align: top;\n",
       "    }\n",
       "\n",
       "    .dataframe thead th {\n",
       "        text-align: right;\n",
       "    }\n",
       "</style>\n",
       "<table border=\"1\" class=\"dataframe\">\n",
       "  <thead>\n",
       "    <tr style=\"text-align: right;\">\n",
       "      <th></th>\n",
       "      <th>age</th>\n",
       "      <th>user_rating</th>\n",
       "      <th>user_rides</th>\n",
       "      <th>user_time_accident</th>\n",
       "      <th>user_id</th>\n",
       "      <th>sex</th>\n",
       "      <th>first_ride_date</th>\n",
       "    </tr>\n",
       "  </thead>\n",
       "  <tbody>\n",
       "    <tr>\n",
       "      <th>0</th>\n",
       "      <td>27</td>\n",
       "      <td>9.0</td>\n",
       "      <td>865</td>\n",
       "      <td>19.0</td>\n",
       "      <td>l17437965W</td>\n",
       "      <td>1</td>\n",
       "      <td>2019-4-2</td>\n",
       "    </tr>\n",
       "    <tr>\n",
       "      <th>1</th>\n",
       "      <td>46</td>\n",
       "      <td>7.9</td>\n",
       "      <td>2116</td>\n",
       "      <td>11.0</td>\n",
       "      <td>Z12362316j</td>\n",
       "      <td>0</td>\n",
       "      <td>2021-11-19</td>\n",
       "    </tr>\n",
       "    <tr>\n",
       "      <th>2</th>\n",
       "      <td>59</td>\n",
       "      <td>7.8</td>\n",
       "      <td>947</td>\n",
       "      <td>4.0</td>\n",
       "      <td>g11098715c</td>\n",
       "      <td>0</td>\n",
       "      <td>2021-1-15</td>\n",
       "    </tr>\n",
       "    <tr>\n",
       "      <th>3</th>\n",
       "      <td>37</td>\n",
       "      <td>7.0</td>\n",
       "      <td>18</td>\n",
       "      <td>4.0</td>\n",
       "      <td>U12618125q</td>\n",
       "      <td>0</td>\n",
       "      <td>2019-11-20</td>\n",
       "    </tr>\n",
       "    <tr>\n",
       "      <th>4</th>\n",
       "      <td>39</td>\n",
       "      <td>8.2</td>\n",
       "      <td>428</td>\n",
       "      <td>7.0</td>\n",
       "      <td>A14375829B</td>\n",
       "      <td>0</td>\n",
       "      <td>2019-7-23</td>\n",
       "    </tr>\n",
       "  </tbody>\n",
       "</table>\n",
       "</div>"
      ],
      "text/plain": [
       "   age  user_rating  user_rides  user_time_accident     user_id  sex  \\\n",
       "0   27          9.0         865                19.0  l17437965W    1   \n",
       "1   46          7.9        2116                11.0  Z12362316j    0   \n",
       "2   59          7.8         947                 4.0  g11098715c    0   \n",
       "3   37          7.0          18                 4.0  U12618125q    0   \n",
       "4   39          8.2         428                 7.0  A14375829B    0   \n",
       "\n",
       "  first_ride_date  \n",
       "0        2019-4-2  \n",
       "1      2021-11-19  \n",
       "2       2021-1-15  \n",
       "3      2019-11-20  \n",
       "4       2019-7-23  "
      ]
     },
     "execution_count": 4,
     "metadata": {},
     "output_type": "execute_result"
    }
   ],
   "source": [
    "data = pd.read_csv('https://raw.githubusercontent.com/a-milenkin/Competitive_Data_Science/main/data/driver_info.csv')\n",
    "print(data.shape)\n",
    "data.head()"
   ]
  },
  {
   "cell_type": "markdown",
   "metadata": {},
   "source": [
    "Задача:\n",
    "\n",
    "Соединить эти две таблицы вместе.\n",
    "Оставить только строки, где rating > 4 и stop_times равен 2, 3 или 5.\n",
    "В получившемся датафрейме оставить только те строки, где car_id не входит в список car_black_list и user_id входит в список user_white_list.\n",
    "Оставить только строки, где index чётное число (датафрейм проиндексирован целыми числами).\n",
    "Итоговый объект pd.DataFrame() поместить в переменную result."
   ]
  },
  {
   "cell_type": "code",
   "execution_count": 9,
   "metadata": {},
   "outputs": [],
   "source": [
    "import pandas as pd\n",
    "\n",
    "df1 = pd.read_csv('https://stepik.org/media/attachments/lesson/681964/2.2.6_df1.csv', index_col=0)\n",
    "df2 = pd.read_csv('https://stepik.org/media/attachments/lesson/681964/2.2.6_df2.csv', index_col=0)\n",
    "\n",
    "# Учтите, что user_white_list и car_black_list в тестовой системе будут иметь другую длину и другие значения\n",
    "user_white_list = ['g10995906g', 'H90312511Q', 'C27138482L', 'H22518078t', 'n17438464n', 'F10525768e', 's15596151o', 'i18954748S', 'E84048392U', 'E69893354s']\n",
    "car_black_list = ['l-4285389z', 'n79502261g', 'N-1839822D']\n",
    "\n",
    "# В ans содержится правильный ответ. Перед отправкой своего решения, сравнитесь с ним.\n",
    "ans = pd.read_csv('https://stepik.org/media/attachments/lesson/681964/2_2_6_ans.csv', index_col=0)"
   ]
  },
  {
   "cell_type": "code",
   "execution_count": 10,
   "metadata": {},
   "outputs": [
    {
     "data": {
      "text/html": [
       "<div>\n",
       "<style scoped>\n",
       "    .dataframe tbody tr th:only-of-type {\n",
       "        vertical-align: middle;\n",
       "    }\n",
       "\n",
       "    .dataframe tbody tr th {\n",
       "        vertical-align: top;\n",
       "    }\n",
       "\n",
       "    .dataframe thead th {\n",
       "        text-align: right;\n",
       "    }\n",
       "</style>\n",
       "<table border=\"1\" class=\"dataframe\">\n",
       "  <thead>\n",
       "    <tr style=\"text-align: right;\">\n",
       "      <th></th>\n",
       "      <th>user_id</th>\n",
       "      <th>car_id</th>\n",
       "      <th>rating</th>\n",
       "      <th>stop_times</th>\n",
       "    </tr>\n",
       "  </thead>\n",
       "  <tbody>\n",
       "    <tr>\n",
       "      <th>20</th>\n",
       "      <td>C27138482L</td>\n",
       "      <td>M-1786506l</td>\n",
       "      <td>7.42</td>\n",
       "      <td>2</td>\n",
       "    </tr>\n",
       "    <tr>\n",
       "      <th>190</th>\n",
       "      <td>F10525768e</td>\n",
       "      <td>I98930031r</td>\n",
       "      <td>4.21</td>\n",
       "      <td>2</td>\n",
       "    </tr>\n",
       "    <tr>\n",
       "      <th>248</th>\n",
       "      <td>s15596151o</td>\n",
       "      <td>u-2070489i</td>\n",
       "      <td>5.39</td>\n",
       "      <td>2</td>\n",
       "    </tr>\n",
       "  </tbody>\n",
       "</table>\n",
       "</div>"
      ],
      "text/plain": [
       "        user_id      car_id  rating  stop_times\n",
       "20   C27138482L  M-1786506l    7.42           2\n",
       "190  F10525768e  I98930031r    4.21           2\n",
       "248  s15596151o  u-2070489i    5.39           2"
      ]
     },
     "execution_count": 10,
     "metadata": {},
     "output_type": "execute_result"
    }
   ],
   "source": [
    "result=pd.concat([df1, df2], axis=0)\n",
    "result = result[(result['rating']>4)&(result['stop_times'].isin([2,3,5]))]\n",
    "result = result[(~result['car_id'].isin(car_black_list)) &(result['user_id'].isin(user_white_list))]\n",
    "result = result[result.index%2==0]\n",
    "result.head()"
   ]
  },
  {
   "cell_type": "markdown",
   "metadata": {},
   "source": [
    "Задача:\n",
    "\n",
    "Создайте столбец tripple_accident из столбца user_time_accident,  умноженного на 3.\n",
    "Создайте столбец rides_on_rating делением столбца user_rides на user_rating.\n",
    "Оставьте только те строки, у которых user_time_accident больше 25 (используем фильтрацию).\n",
    "Оставьте только те строки, у которых age выше среднего значения по полученной таблице в предыдущем пункте."
   ]
  },
  {
   "cell_type": "code",
   "execution_count": 14,
   "metadata": {},
   "outputs": [],
   "source": [
    "import pandas as pd\n",
    "\n",
    "df = pd.read_csv('https://stepik.org/media/attachments/lesson/681964/2_2_8.csv')\n",
    "\n",
    "# В ans содержится правильный ответ. Перед отправкой своего решения, сравнитесь с ним.\n",
    "ans = pd.read_csv('https://stepik.org/media/attachments/lesson/681964/2_2_8_ans.csv', index_col=0)"
   ]
  },
  {
   "cell_type": "code",
   "execution_count": 16,
   "metadata": {},
   "outputs": [
    {
     "data": {
      "text/html": [
       "<div>\n",
       "<style scoped>\n",
       "    .dataframe tbody tr th:only-of-type {\n",
       "        vertical-align: middle;\n",
       "    }\n",
       "\n",
       "    .dataframe tbody tr th {\n",
       "        vertical-align: top;\n",
       "    }\n",
       "\n",
       "    .dataframe thead th {\n",
       "        text-align: right;\n",
       "    }\n",
       "</style>\n",
       "<table border=\"1\" class=\"dataframe\">\n",
       "  <thead>\n",
       "    <tr style=\"text-align: right;\">\n",
       "      <th></th>\n",
       "      <th>user_id</th>\n",
       "      <th>user_rating</th>\n",
       "      <th>age</th>\n",
       "      <th>user_rides</th>\n",
       "      <th>user_time_accident</th>\n",
       "      <th>tripple_accident</th>\n",
       "      <th>rides_on_rating</th>\n",
       "    </tr>\n",
       "  </thead>\n",
       "  <tbody>\n",
       "    <tr>\n",
       "      <th>3</th>\n",
       "      <td>E10711310m</td>\n",
       "      <td>8.4</td>\n",
       "      <td>33</td>\n",
       "      <td>322</td>\n",
       "      <td>39.0</td>\n",
       "      <td>117.0</td>\n",
       "      <td>38.333333</td>\n",
       "    </tr>\n",
       "  </tbody>\n",
       "</table>\n",
       "</div>"
      ],
      "text/plain": [
       "      user_id  user_rating  age  user_rides  user_time_accident  \\\n",
       "3  E10711310m          8.4   33         322                39.0   \n",
       "\n",
       "   tripple_accident  rides_on_rating  \n",
       "3             117.0        38.333333  "
      ]
     },
     "execution_count": 16,
     "metadata": {},
     "output_type": "execute_result"
    }
   ],
   "source": [
    "df['tripple_accident'] = df['user_time_accident']*3\n",
    "df['rides_on_rating'] = df['user_rides'] / df['user_rating']\n",
    "df = df.loc[(df['user_time_accident']>25), :]\n",
    "df = df[df['age'].gt(df.age.mean())]\n",
    "df"
   ]
  },
  {
   "cell_type": "markdown",
   "metadata": {},
   "source": [
    "Добавьте новую строку (с индексом new_index:(int / str) и значениями new_data:list).\n",
    "Удалите строки с индексами из списка del_index_list: list.\n",
    "Увеличьте значение destroy_degree на 1 в строке с индексом равным index. Переменная index содержит индекс строки ИЛИ число (индекс).\n",
    "Удалите столбец fix_date, т.к. не стоит сейчас думать о времени.\n",
    "Создайте новый столбец efficient, который равен destroy_degree деленный на work_duration.\n",
    "Возведите столбец work_duration в квадрат.\n",
    "Переименуйте столбец work_duration в work_duration_square.\n",
    "Удалите дубликаты по столбцу car_id."
   ]
  },
  {
   "cell_type": "code",
   "execution_count": 81,
   "metadata": {},
   "outputs": [
    {
     "data": {
      "text/html": [
       "<div>\n",
       "<style scoped>\n",
       "    .dataframe tbody tr th:only-of-type {\n",
       "        vertical-align: middle;\n",
       "    }\n",
       "\n",
       "    .dataframe tbody tr th {\n",
       "        vertical-align: top;\n",
       "    }\n",
       "\n",
       "    .dataframe thead th {\n",
       "        text-align: right;\n",
       "    }\n",
       "</style>\n",
       "<table border=\"1\" class=\"dataframe\">\n",
       "  <thead>\n",
       "    <tr style=\"text-align: right;\">\n",
       "      <th></th>\n",
       "      <th>Unnamed: 0</th>\n",
       "      <th>car_id</th>\n",
       "      <th>worker_id</th>\n",
       "      <th>work_type</th>\n",
       "      <th>destroy_degree</th>\n",
       "      <th>work_duration_square</th>\n",
       "      <th>efficient</th>\n",
       "    </tr>\n",
       "  </thead>\n",
       "  <tbody>\n",
       "    <tr>\n",
       "      <th>0</th>\n",
       "      <td>0</td>\n",
       "      <td>C-8860661H</td>\n",
       "      <td>BM</td>\n",
       "      <td>reparking</td>\n",
       "      <td>1.0</td>\n",
       "      <td>784</td>\n",
       "      <td>0.035714</td>\n",
       "    </tr>\n",
       "    <tr>\n",
       "      <th>1</th>\n",
       "      <td>1</td>\n",
       "      <td>Z76775340d</td>\n",
       "      <td>IL</td>\n",
       "      <td>repair</td>\n",
       "      <td>8.4</td>\n",
       "      <td>2304</td>\n",
       "      <td>0.175000</td>\n",
       "    </tr>\n",
       "    <tr>\n",
       "      <th>2</th>\n",
       "      <td>2</td>\n",
       "      <td>r12485993Y</td>\n",
       "      <td>HN</td>\n",
       "      <td>reparking</td>\n",
       "      <td>1.0</td>\n",
       "      <td>441</td>\n",
       "      <td>0.047619</td>\n",
       "    </tr>\n",
       "    <tr>\n",
       "      <th>3</th>\n",
       "      <td>3</td>\n",
       "      <td>Z-1382353b</td>\n",
       "      <td>VX</td>\n",
       "      <td>repair</td>\n",
       "      <td>5.7</td>\n",
       "      <td>169</td>\n",
       "      <td>0.438462</td>\n",
       "    </tr>\n",
       "    <tr>\n",
       "      <th>4</th>\n",
       "      <td>4</td>\n",
       "      <td>p14707024B</td>\n",
       "      <td>JP</td>\n",
       "      <td>refuel_check</td>\n",
       "      <td>1.0</td>\n",
       "      <td>441</td>\n",
       "      <td>0.047619</td>\n",
       "    </tr>\n",
       "  </tbody>\n",
       "</table>\n",
       "</div>"
      ],
      "text/plain": [
       "   Unnamed: 0      car_id worker_id     work_type  destroy_degree  \\\n",
       "0           0  C-8860661H        BM     reparking             1.0   \n",
       "1           1  Z76775340d        IL        repair             8.4   \n",
       "2           2  r12485993Y        HN     reparking             1.0   \n",
       "3           3  Z-1382353b        VX        repair             5.7   \n",
       "4           4  p14707024B        JP  refuel_check             1.0   \n",
       "\n",
       "   work_duration_square  efficient  \n",
       "0                   784   0.035714  \n",
       "1                  2304   0.175000  \n",
       "2                   441   0.047619  \n",
       "3                   169   0.438462  \n",
       "4                   441   0.047619  "
      ]
     },
     "execution_count": 81,
     "metadata": {},
     "output_type": "execute_result"
    }
   ],
   "source": [
    "import pandas as pd\n",
    "\n",
    "df = pd.read_csv('https://stepik.org/media/attachments/lesson/681964/2_2_10.csv')\n",
    "\n",
    "# Учтите, что new_index, new_data, del_index_list, index в тестовой системе будут иметь другие значения\n",
    "new_index = 50\n",
    "new_data = ['new_car_id', 'new_worker_id', '2019-11-11 4:44','refuel_check', 3.5, 10]\n",
    "del_index_list = [41, 18, 33, 7, 46]\n",
    "index = 22\n",
    "\n",
    "\n",
    "\n",
    "# В ans содержится правильный ответ. Перед отправкой своего решения, сравнитесь с ним.\n",
    "ans = pd.read_csv('https://stepik.org/media/attachments/lesson/681964/2_2_10_ans.csv')\n",
    "ans.head()\n"
   ]
  },
  {
   "cell_type": "code",
   "execution_count": 82,
   "metadata": {},
   "outputs": [],
   "source": [
    "df = pd.concat([df, pd.DataFrame([new_data],index=[new_index],columns=df.columns)])\n",
    "df = df[~df.index.isin(del_index_list)]\n",
    "df['destroy_degree'] = df.apply(lambda x: x.destroy_degree+1 if x.name == index else x.destroy_degree, axis = 1)\n",
    "df.drop(['fix_date'], axis =1, inplace=True)\n",
    "df['efficient'] = df['destroy_degree']/df['work_duration']\n",
    "df['work_duration'] = df['work_duration']**2\n",
    "df = df.rename(columns={'work_duration':'work_duration_square'})\n",
    "df = df.drop_duplicates(['car_id'])"
   ]
  },
  {
   "cell_type": "markdown",
   "metadata": {},
   "source": [
    "Отсортируйте строки сначала по убыванию 1-го столбца из списка sort_by_list, затем по возрастанию 2-го столбца из списка.\n",
    "Удалите столбцы из списка cols2drop с учетом того, что некоторых столбцов может не быть в df.\n",
    "Сделайте порядок столбцов в df в соответствии с переменной columns_order_list: List[str].\n",
    "Удалите строки, в которых car_rating < critical_car_rating.\n",
    "Удалите строки, где число поездок riders больше 10_000, или тип машины car_type относится либо к standart, либо к economy."
   ]
  },
  {
   "cell_type": "code",
   "execution_count": 101,
   "metadata": {},
   "outputs": [
    {
     "data": {
      "text/html": [
       "<div>\n",
       "<style scoped>\n",
       "    .dataframe tbody tr th:only-of-type {\n",
       "        vertical-align: middle;\n",
       "    }\n",
       "\n",
       "    .dataframe tbody tr th {\n",
       "        vertical-align: top;\n",
       "    }\n",
       "\n",
       "    .dataframe thead th {\n",
       "        text-align: right;\n",
       "    }\n",
       "</style>\n",
       "<table border=\"1\" class=\"dataframe\">\n",
       "  <thead>\n",
       "    <tr style=\"text-align: right;\">\n",
       "      <th></th>\n",
       "      <th>model</th>\n",
       "      <th>car_type</th>\n",
       "      <th>car_id</th>\n",
       "      <th>car_rating</th>\n",
       "      <th>year_to_start</th>\n",
       "      <th>year_to_work</th>\n",
       "      <th>riders</th>\n",
       "      <th>fuel_type</th>\n",
       "    </tr>\n",
       "  </thead>\n",
       "  <tbody>\n",
       "    <tr>\n",
       "      <th>4</th>\n",
       "      <td>Mini Cooper</td>\n",
       "      <td>business</td>\n",
       "      <td>i-4390733F</td>\n",
       "      <td>4.96</td>\n",
       "      <td>2012</td>\n",
       "      <td>2018</td>\n",
       "      <td>1007</td>\n",
       "      <td>petrol</td>\n",
       "    </tr>\n",
       "    <tr>\n",
       "      <th>295</th>\n",
       "      <td>Mini Cooper</td>\n",
       "      <td>business</td>\n",
       "      <td>b34607341j</td>\n",
       "      <td>4.04</td>\n",
       "      <td>2011</td>\n",
       "      <td>2018</td>\n",
       "      <td>2740</td>\n",
       "      <td>petrol</td>\n",
       "    </tr>\n",
       "  </tbody>\n",
       "</table>\n",
       "</div>"
      ],
      "text/plain": [
       "           model  car_type      car_id  car_rating  year_to_start  \\\n",
       "4    Mini Cooper  business  i-4390733F        4.96           2012   \n",
       "295  Mini Cooper  business  b34607341j        4.04           2011   \n",
       "\n",
       "     year_to_work  riders fuel_type  \n",
       "4            2018    1007    petrol  \n",
       "295          2018    2740    petrol  "
      ]
     },
     "execution_count": 101,
     "metadata": {},
     "output_type": "execute_result"
    }
   ],
   "source": [
    "import pandas as pd\n",
    "\n",
    "df = pd.read_csv('https://stepik.org/media/attachments/lesson/681964/2.2.11.csv')\n",
    "\n",
    "# Учтите, что sort_by_list, cols2drop, columns_order_list в тестовой системе будут иметь другие значения.\n",
    "sort_by_list = ['car_rating', 'riders']\n",
    "cols2drop = ['random_name_1', 'target_reg', 'target_class', 'random_name_2']\n",
    "columns_order_list = ['model', 'car_type', 'car_id', 'car_rating', 'year_to_start', 'year_to_work', 'riders', 'fuel_type']\n",
    "critical_car_rating = 2\n",
    "\n",
    "# В ans содержится правильный ответ. Перед отправкой своего решения, сравнитесь с ним.\n",
    "ans = pd.read_csv('https://stepik.org/media/attachments/lesson/681964/2_2_11_ans.csv', index_col=0)\n",
    "ans"
   ]
  },
  {
   "cell_type": "code",
   "execution_count": null,
   "metadata": {},
   "outputs": [],
   "source": [
    "df = df.sort_values(by=sort_by_list, ascending=[False, True])\n",
    "df.drop(cols2drop, axis = 1, inplace=True,  errors ='ignore')\n",
    "df = df.loc[:, columns_order_list]\n",
    "df = df.loc[~(df['car_rating'] < critical_car_rating)]\n",
    "df.drop(df[(df['riders'].gt(10_000)) | (df['car_type'].isin(['standart', 'economy']))].index, axis = 0, inplace=True)"
   ]
  },
  {
   "cell_type": "markdown",
   "metadata": {},
   "source": [
    "Запишите в переменную mean_rating среднее по столбцу car_rating .\n",
    "Увеличьте на один все значения в столбцах car_rating и year_to_work.\n",
    "Отфильтруйте любым из удобных способов машины с рейтингом выше среднего от столбца car_rating (используйте переменную mean_rating).\n",
    "Преобразуйте столбец year_to_work следующим образом: если значение меньше 2017, то прибавьте 2, иначе разделите значение нацело на 5.\n",
    "Переименуйте столбец year_to_start в new_year_to_start и удалите столбец fuel_type.\n",
    "Ко всем значениям из столбца car_type добавьте приставку super_ (standart -> super_standart).\n",
    "Решение запишите в переменную result."
   ]
  },
  {
   "cell_type": "code",
   "execution_count": 118,
   "metadata": {},
   "outputs": [
    {
     "data": {
      "text/plain": [
       "(90, 10)"
      ]
     },
     "execution_count": 118,
     "metadata": {},
     "output_type": "execute_result"
    }
   ],
   "source": [
    "import pandas as pd\n",
    "\n",
    "df = pd.read_csv('https://stepik.org/media/attachments/lesson/681964/2_2_12.csv')\n",
    "\n",
    "\n",
    "# В ans содержится правильный ответ. Перед отправкой своего решения, сравнитесь с ним.\n",
    "ans = pd.read_csv('https://stepik.org/media/attachments/lesson/681964/2_2_12_ans.csv')\n",
    "ans.shape"
   ]
  },
  {
   "cell_type": "code",
   "execution_count": null,
   "metadata": {},
   "outputs": [],
   "source": [
    "df['mean_rating'] = df['car_rating'].mean()\n",
    "df.loc[:, ['car_rating', 'year_to_work']] = df.loc[:, ['car_rating', 'year_to_work']] + 1\n",
    "df = df.loc[df['car_rating'] > df['mean_rating'], :]\n",
    "df['year_to_work'] = df['year_to_work'].apply(lambda x: x+2 if x<2017 else x//5)\n",
    "df = df.rename(columns={'year_to_start': 'new_year_to_start'})\n",
    "df.drop(['fuel_type'], axis = 1, inplace=True)\n",
    "df['car_type'] = df['car_type'].apply(lambda x: 'super_' + x)"
   ]
  },
  {
   "cell_type": "markdown",
   "metadata": {},
   "source": [
    "Добавьте столбец flag, который равен 'good_line', если rating > 5 and speed_max < 100. 'bad_line', если  rating > 5 and speed_max > 100. 'undefined' в остальных случаях.\n",
    "Добавьте столбец speed_check, который принимает значения 'avg_more', если distance/ride_duration > speed_avg, иначе 'avg_less'.\n",
    "Удалите столбцы из списка cols2drop.\n",
    "Удалите строки, в которых car_id имеет пустые значения (только NA удаляем).\n",
    "Результат запишите в переменную result."
   ]
  },
  {
   "cell_type": "code",
   "execution_count": 119,
   "metadata": {},
   "outputs": [],
   "source": [
    "import pandas as pd\n",
    "\n",
    "df = pd.read_csv('https://stepik.org/media/attachments/lesson/681964/2_2_13.csv')\n",
    "\n",
    "# Учтите, что cols2drop в тестовой системе будет иметь другие значения.\n",
    "cols2drop = ['ride_cost', 'stop_times', 'user_ride_quality']\n",
    "\n",
    "# В ans содержится правильный ответ. Перед отправкой своего решения, сравнитесь с ним.\n",
    "ans = pd.read_csv('https://stepik.org/media/attachments/lesson/681964/2_2_13_ans.csv', index_col=0)"
   ]
  },
  {
   "cell_type": "code",
   "execution_count": null,
   "metadata": {},
   "outputs": [],
   "source": [
    "df['flag'] = df.apply(lambda x: 'good_line' if x.rating> 5 and x.speed_max<100 else 'bad_line' if x.rating > 5 and x.speed_max>100 else 'undefined', axis =1)\n",
    "df['speed_check']= df.apply(lambda x: 'avg_more' if x.distance / x.ride_duration > x.speed_avg else 'avg_less', axis = 1)\n",
    "df.drop(cols2drop, axis = 1, inplace=True,  errors ='ignore')\n",
    "df.drop(df.loc[df.apply(lambda x: pd.isna(x.car_id), axis=1), :].index, axis=0, inplace=True)\n",
    "result=df"
   ]
  },
  {
   "cell_type": "markdown",
   "metadata": {},
   "source": [
    "Посчитайте количество пропусков в каждой строке и запишите это в новый столбец nans_num.\n",
    "Удалите строки, где количество пропусков больше 2.\n",
    "Удалите строки, где age имеет пропущенные значения.\n",
    "Заполните пропущенные значения в столбце user_time_accident медианным значением.\n",
    "Оставьте только столбцы age, user_rides, user_time_accident.\n",
    "Решение запишите в переменную result."
   ]
  },
  {
   "cell_type": "code",
   "execution_count": 145,
   "metadata": {},
   "outputs": [],
   "source": []
  },
  {
   "cell_type": "code",
   "execution_count": 140,
   "metadata": {},
   "outputs": [],
   "source": [
    "import pandas as pd\n",
    "\n",
    "df = pd.read_csv('https://stepik.org/media/attachments/lesson/681964/2_2_14.csv')\n",
    "\n",
    "# В ans содержится правильный ответ. Перед отправкой своего решения, сравнитесь с ним.\n",
    "ans = pd.read_csv('https://stepik.org/media/attachments/lesson/681964/2_2_14_ans.csv', index_col=0)"
   ]
  }
 ],
 "metadata": {
  "kernelspec": {
   "display_name": "Python 3",
   "language": "python",
   "name": "python3"
  },
  "language_info": {
   "codemirror_mode": {
    "name": "ipython",
    "version": 3
   },
   "file_extension": ".py",
   "mimetype": "text/x-python",
   "name": "python",
   "nbconvert_exporter": "python",
   "pygments_lexer": "ipython3",
   "version": "3.8.9"
  },
  "orig_nbformat": 4
 },
 "nbformat": 4,
 "nbformat_minor": 2
}
